{
  "metadata": {
    "kernelspec": {
      "name": "python",
      "display_name": "Python (Pyodide)",
      "language": "python"
    },
    "language_info": {
      "codemirror_mode": {
        "name": "python",
        "version": 3
      },
      "file_extension": ".py",
      "mimetype": "text/x-python",
      "name": "python",
      "nbconvert_exporter": "python",
      "pygments_lexer": "ipython3",
      "version": "3.8"
    }
  },
  "nbformat_minor": 4,
  "nbformat": 4,
  "cells": [
    {
      "cell_type": "markdown",
      "source": "**Exercise 1: Create a Jupyter Notebook**\n\nCreate a new Jupyter notebook called DataScienceEcosystem.ipynb",
      "metadata": {}
    },
    {
      "cell_type": "markdown",
      "source": "**Exercise 2: Create markdown cell with title of the notebook**\n\nCreate a markdown cell with the title Data Science Tools and Ecosystem using H1 style heading.\n\n\nTake a screenshot of the markdown cell and name it as 2-title.png",
      "metadata": {}
    },
    {
      "cell_type": "markdown",
      "source": "# Data Science Tools and Ecosystem",
      "metadata": {}
    },
    {
      "cell_type": "markdown",
      "source": "**Exercise 3 - Create a markdown cell for an introduction**\n\nWrite an introductory sentence about the notebook. \n\nTake a screenshot of the markdown cell and name it as 3-intro.png",
      "metadata": {}
    },
    {
      "cell_type": "markdown",
      "source": "In this notebook, Data Science Tools and Ecosystem are summarized.",
      "metadata": {}
    },
    {
      "cell_type": "markdown",
      "source": "**Exercise 4 - Create a markdown cell to list data science languages**\n\nStart the cell with an overview line. \n\nTake a screenshot of the markdown cell and name it as 4-dslanguages.png",
      "metadata": {}
    },
    {
      "cell_type": "markdown",
      "source": "Some of the popular languages that Data Scientists use are:\n\n1. Python\n2. R\n3. SQL\n4. Java\n5. Julia\n6. Scala\n7. C/C++\n8. JavaScript",
      "metadata": {}
    },
    {
      "cell_type": "markdown",
      "source": "**Exercise 5 - Create a markdown cell to list data science libraries**\n\nAdd an overview line to the cell. Below this line add an ordered list listing 3 (or more) commonly used libraries in data science.\n\n\nTake a screenshot of the markdown cell and name it as 5-dslibraries.png",
      "metadata": {}
    },
    {
      "cell_type": "markdown",
      "source": "Some of the commonly used Python libraries used by Data Scientists include:\n\n1. Numpy\n2. Keras\n3. Pandas\n4. SciPy\n5. Scikit-Learn\n6. TensorFlow\n7. Matplotlib",
      "metadata": {}
    },
    {
      "cell_type": "markdown",
      "source": "**Exercise 6 - Create a markdown cell with a table of Data Science tools**\n\nCreate a single column table in this cell with the first row containing the header Data Science Tools. The subsequent three rows in the table should indicate three development environment open source tools used in data science.\n\nTake a screenshot of the markdown cell and name it as 6-dstools.png ",
      "metadata": {}
    },
    {
      "cell_type": "markdown",
      "source": "|  Data Science tools |\n| ------------- |\n| Hadoop |\n| Jupyter Notebooks |\n| R Studio’s |",
      "metadata": {}
    },
    {
      "cell_type": "markdown",
      "source": "**Exercise 7 - Create a markdown cell introducing arithmetic expression examples**\n\nAdd a line in this cell with H3 style heading with text. \n\nTake a screenshot of the markdown cell and name it as 7-introarithmetic.png",
      "metadata": {}
    },
    {
      "cell_type": "markdown",
      "source": "### Below are a few examples of evaluating arithmetic expressions in Python\n\n\n| Operator | Function | Example |\n| :----------:| :----------: | :-----------: |\n| + | Addition | 1 + 2 = 3 |\n| - | Subtraction | 3 - 1 = 2 |\n| * | Multiplication | 2 * 3 = 6 |\n| / | Division | 6 / 2 = 3 |",
      "metadata": {}
    },
    {
      "cell_type": "markdown",
      "source": "**Exercise 8 - Create a code cell to multiply and add numbers**\n\nIn this code cell evaluate the expression (3*4)+5.\nInsert a comment line before the expression to explain the operation.\nThen execute the cell to ensure the expression returns the expected output of 17.\n\n\nTake a screenshot of the code cell with output and name it as 8-multiplyandaddintegers.png",
      "metadata": {}
    },
    {
      "cell_type": "code",
      "source": "# This a simple arithmetic expression to mutiply then add integers\n(3 * 4 ) + 5",
      "metadata": {
        "trusted": true
      },
      "outputs": [
        {
          "execution_count": 3,
          "output_type": "execute_result",
          "data": {
            "text/plain": "17"
          },
          "metadata": {}
        }
      ],
      "execution_count": 3
    },
    {
      "cell_type": "markdown",
      "source": "**Exercise 9 - Create a code cell to convert minutes to hours**\n\nIn this code cell write an expression that converts 200 minutes into hours.\nInsert a comment line before the expression to explain the operation.\nRun the cell to evaluate the expression.\n\n\nTake a screenshot of the code cell with output and name it as 9-hourstominutes.png",
      "metadata": {}
    },
    {
      "cell_type": "code",
      "source": "# This will convert 200 minutes to hours by diving by 60\n200 / 60",
      "metadata": {
        "trusted": true
      },
      "outputs": [
        {
          "execution_count": 4,
          "output_type": "execute_result",
          "data": {
            "text/plain": "3.3333333333333335"
          },
          "metadata": {}
        }
      ],
      "execution_count": 4
    },
    {
      "cell_type": "markdown",
      "source": "**Exercise 10 - Insert a markdown cell to list Objectives**\n\nBelow the introduction cell created in Exercise 3, insert a new markdown cell to list the objectives that this notebook covered (i.e. some of the key takeaways from the course). In this new cell start with an introductory line titled: Objectives: in bold font. Then using an unordered list (bullets) indicate 3 to 5 items covered in this notebook, such as List popular languages for Data Science.\n\n    \nTake a screenshot of the markdown cell and name it as 10-objectives.png",
      "metadata": {}
    },
    {
      "cell_type": "markdown",
      "source": "**Objectives:**\n\n- List popular languages for Data Science\n- List Data Science libraries\n- Table of Data Science tools",
      "metadata": {}
    },
    {
      "cell_type": "markdown",
      "source": "**Exercise 11 - Create a markdown cell to indicate the Author's name**\n\nIn this markdown cell markdown cell include the following text Author in H2 style heading. Include your name as regular text below the word Author.\n\n    \nTake a screenshot of the markdown cell and name it as 11-authordetails.png",
      "metadata": {}
    },
    {
      "cell_type": "markdown",
      "source": "## Author\nVictoria Sintsova",
      "metadata": {}
    },
    {
      "cell_type": "code",
      "source": "",
      "metadata": {
        "trusted": true
      },
      "outputs": [],
      "execution_count": null
    }
  ]
}